{
 "cells": [
  {
   "cell_type": "code",
   "execution_count": 1,
   "source": [
    "import tensorflow as tf\r\n",
    "from tensorflow import keras \r\n",
    "import numpy as np\r\n",
    "from  utils.dataset import Dataset\r\n",
    "from models.stackgan import UpSamplingBlock, ConditioningAugmentation, EmbeddingCompresssor, KL_loss\r\n",
    "# dataset = Dataset(image_size=(64,64),data_base_path=\"./data\",batch_size=32)\r\n",
    "# train_ds = dataset.get_train_ds()"
   ],
   "outputs": [],
   "metadata": {
    "id": "zUEK1KNlA28O"
   }
  },
  {
   "cell_type": "code",
   "execution_count": 2,
   "source": [
    "physical_devices = tf.config.list_physical_devices('GPU') \r\n",
    "tf.config.experimental.set_memory_growth(physical_devices[0], True)"
   ],
   "outputs": [],
   "metadata": {}
  },
  {
   "cell_type": "code",
   "execution_count": 3,
   "source": [
    "from re import template\r\n",
    "from numpy.lib.type_check import imag\r\n",
    "import tensorflow as tf\r\n",
    "from tensorflow.keras import backend as  K \r\n",
    "from tensorflow import keras\r\n",
    "from tensorflow.keras import layers as L\r\n",
    "import time\r\n",
    "import os\r\n",
    "from models.stackgan import Stage1Model \r\n",
    "model = Stage1Model()\r\n"
   ],
   "outputs": [],
   "metadata": {
    "id": "sO375URWPcZC"
   }
  },
  {
   "cell_type": "code",
   "execution_count": 4,
   "source": [
    "model.load_weights(path=\"./weights/weights_50\")"
   ],
   "outputs": [],
   "metadata": {
    "id": "ADvYKlTxv3P7"
   }
  },
  {
   "cell_type": "code",
   "execution_count": 5,
   "source": [
    "#model.train(train_ds,batch_size=32,num_epochs=100,save_weights_epoch=5)"
   ],
   "outputs": [],
   "metadata": {
    "colab": {
     "base_uri": "https://localhost:8080/"
    },
    "id": "qHfBb1fPA28Y",
    "outputId": "ff420bb4-e672-4c7c-85ac-a1e6161d5ffd"
   }
  },
  {
   "cell_type": "code",
   "execution_count": 6,
   "source": [
    "dataset = Dataset(image_size=(256,256),data_base_path=\"./data\",batch_size=2)\r\n",
    "train_ds = dataset.get_test_ds()"
   ],
   "outputs": [],
   "metadata": {
    "id": "pI9uhvhlWFoZ"
   }
  },
  {
   "cell_type": "code",
   "execution_count": 7,
   "source": [
    "len(dataset.test_filenames)"
   ],
   "outputs": [
    {
     "output_type": "execute_result",
     "data": {
      "text/plain": [
       "2933"
      ]
     },
     "metadata": {},
     "execution_count": 7
    }
   ],
   "metadata": {
    "colab": {
     "base_uri": "https://localhost:8080/"
    },
    "id": "neAbJUlJNiV9",
    "outputId": "cb484bf9-571d-49c3-892a-7fc540ddbc52"
   }
  },
  {
   "cell_type": "code",
   "execution_count": 9,
   "source": [
    "def ResidualBlock(input, num_filters):\r\n",
    "    x  =  L.Conv2D(filters = num_filters, kernel_size= 3 , strides=1, padding='same')(input)\r\n",
    "    x  =  L.BatchNormalization()(x)\r\n",
    "    x  =  L.ReLU()(x)\r\n",
    "    x  =  L.Conv2D(filters = num_filters, kernel_size=3, strides=1, padding='same')(x)\r\n",
    "    x  =  L.BatchNormalization()(x)\r\n",
    "    x  =  L.ReLU()(x)\r\n",
    "    return x\r\n",
    "\r\n",
    "\r\n",
    "class Stage2Generator(keras.Model):\r\n",
    "    def __init__(self,*args, **kwargs):\r\n",
    "        super(Stage2Generator, self).__init__(*args, **kwargs)\r\n",
    "        self.augmentation = ConditioningAugmentation()\r\n",
    "        self.reshape = tf.keras.layers.Reshape(target_shape = (1, 1, 128))\r\n",
    "\r\n",
    "    def call(self,inputs):\r\n",
    "        image , embedding = inputs\r\n",
    "        c,phi = self.augmentation(embedding)\r\n",
    "        c = K.expand_dims(c, axis=1)\r\n",
    "        c = K.expand_dims(c, axis=1)\r\n",
    "        c = K.tile(c, [1, 16, 16, 1])\r\n",
    "        x = DownSamplingBlock(image,num_filters=64,kernel_size = 3, strides = 1,batch_norm=False)\r\n",
    "        x = DownSamplingBlock(x,num_filters=256)\r\n",
    "        x = DownSamplingBlock(x,num_filters=512)\r\n",
    "        x = K.concatenate([c, x], axis = 3)        \r\n",
    "        x = ResidualBlock(x, 128)\r\n",
    "        x = ResidualBlock(x, 256)\r\n",
    "        x = ResidualBlock(x, 128)\r\n",
    "        x = UpSamplingBlock(x,256)\r\n",
    "        x = ResidualBlock(x,256)\r\n",
    "        x = UpSamplingBlock(x,256)\r\n",
    "        x = ResidualBlock(x,128)\r\n",
    "        x = UpSamplingBlock(x,256)\r\n",
    "        x = ResidualBlock(x,128)\r\n",
    "        x = UpSamplingBlock(x,3)\r\n",
    "        \r\n",
    "        return x,phi\r\n",
    "\r\n",
    "def DownSamplingBlock(  inputs,\r\n",
    "                        num_filters, \r\n",
    "                        kernel_size= 4,\r\n",
    "                        strides = 2,\r\n",
    "                        batch_norm=True,\r\n",
    "                        activation= True):\r\n",
    "    x = L.Conv2D(filters = num_filters, kernel_size= kernel_size , strides=strides, padding='same')(inputs)\r\n",
    "    if batch_norm:\r\n",
    "        x = L.BatchNormalization()(x)\r\n",
    "    if activation:\r\n",
    "        x = L.LeakyReLU()(x)\r\n",
    "    #print(f\" x shape {x.shape}\")\r\n",
    "    return x\r\n",
    "\r\n",
    "\r\n",
    "class Stage2Discriminator(tf.keras.Model):\r\n",
    "  def __init__(self):\r\n",
    "    super(Stage2Discriminator, self).__init__()\r\n",
    "    self.embed = EmbeddingCompresssor()\r\n",
    "    self.reshape = tf.keras.layers.Reshape(target_shape = (1, 1, 128))\r\n",
    "    self.conv_out = tf.keras.layers.Conv2D(filters = 1, kernel_size = 4, strides = 1, padding = \"valid\", kernel_initializer = tf.keras.initializers.TruncatedNormal(stddev = 0.02))\r\n",
    "\r\n",
    "  def call(self, inputs):\r\n",
    "    I, E = inputs\r\n",
    "    T = self.embed(E)\r\n",
    "    T = self.reshape(T)\r\n",
    "    T = tf.tile(T, (1, 4, 4, 1))\r\n",
    "    \r\n",
    "    x = DownSamplingBlock(I,num_filters=64,batch_norm=False)\r\n",
    "    x = DownSamplingBlock(x,num_filters=128)\r\n",
    "    x = DownSamplingBlock(x, num_filters=256)\r\n",
    "    x = DownSamplingBlock(x,num_filters=512)\r\n",
    "    x = DownSamplingBlock(x,num_filters=1024)\r\n",
    "    x = DownSamplingBlock(x,num_filters=512)\r\n",
    "    x = DownSamplingBlock(x,num_filters=128,kernel_size=1,strides=1)\r\n",
    "    \r\n",
    "    y = DownSamplingBlock(x, num_filters=128,kernel_size=1,strides=1)\r\n",
    "    y = DownSamplingBlock(y, num_filters=256,kernel_size=3,strides=1)\r\n",
    "    y = DownSamplingBlock(y, num_filters=128,kernel_size=3,strides=1)\r\n",
    "\r\n",
    "    A = tf.keras.layers.Add()([x,y])\r\n",
    "    A = tf.nn.leaky_relu(A)\r\n",
    "    merged_input = tf.keras.layers.concatenate([A, T])\r\n",
    "    \r\n",
    "    z = DownSamplingBlock(merged_input,128,kernel_size=1,strides=1)\r\n",
    "    z = self.conv_out(z)\r\n",
    "    z = tf.squeeze(z)\r\n",
    "    return z\r\n",
    "\r\n",
    "\r\n",
    "class Stage2Model(keras.Model):\r\n",
    "    def __init__(self,stage1model):\r\n",
    "        super(Stage2Model, self).__init__()\r\n",
    "        self.generator1 = stage1model.generator\r\n",
    "        self.generator2 = Stage2Generator()\r\n",
    "        self.discriminator2 = Stage2Discriminator()\r\n",
    "        self.generator2_optimizer = keras.optimizers.Adam(learning_rate= 0.0001, beta_1= 0.5 , beta_2= 0.999)\r\n",
    "        self.discriminator2_optimizer = keras.optimizers.Adam(learning_rate= 0.0001, beta_1= 0.5 , beta_2= 0.999)\r\n",
    "        self.noise_dim = 100\r\n",
    "    def train(self, train_ds, batch_size= 64, num_epochs =1,steps_per_epoch =125):\r\n",
    "\r\n",
    "        for epoch in range(num_epochs):\r\n",
    "            print(\"Epoch %d/%d:\\n  \"%(epoch + 1, num_epochs), end = \"\")\r\n",
    "            start_time = time.time()\r\n",
    "            if epoch % 100 == 0:\r\n",
    "                K.set_value(self.generator2_optimizer.learning_rate, self.generator2_optimizer.learning_rate / 2)\r\n",
    "                K.set_value(self.discriminator2_optimizer.learning_rate, self.discriminator2_optimizer.learning_rate / 2)\r\n",
    "            \r\n",
    "            generator_loss_log = []\r\n",
    "            discriminator_loss_log = []\r\n",
    "            steps_per_epoch = steps_per_epoch\r\n",
    "            batch_iter = iter(train_ds) \r\n",
    "            for i in range(steps_per_epoch):\r\n",
    "                if i% 5 ==0:\r\n",
    "                    print(\"=\", end = \"\")\r\n",
    "                hr_image_batch,embedding_batch = next(batch_iter)\r\n",
    "                batch_size = hr_image_batch.shape[0]\r\n",
    "                z_noise = tf.random.normal((batch_size, self.noise_dim))\r\n",
    "                mismatched_images = tf.roll(hr_image_batch, shift=1, axis = 0)\r\n",
    "                real_labels = tf.random.uniform(shape = (batch_size, ), minval = 0.9, maxval=1.0)\r\n",
    "                fake_labels = tf.random.uniform(shape = (batch_size, ), minval = 0.0 , maxval = 0.1)\r\n",
    "                mismatched_labels = tf.random.uniform(shape = (batch_size, ), minval = 0.0, maxval = 0.1)\r\n",
    "                with tf.GradientTape() as generator_tape, tf.GradientTape() as discriminator_tape:\r\n",
    "                    lr_fake_images , _ = self.generator1([embedding_batch,z_noise])\r\n",
    "                    hr_fake_images  ,  phi  = self.generator2([lr_fake_images,embedding_batch])\r\n",
    "                    real_logits = self.discriminator2([hr_image_batch, embedding_batch])\r\n",
    "                    del hr_image_batch  ## clear memory used by hr_image_batch \r\n",
    "                    fake_logits = self.discriminator2([hr_fake_images, embedding_batch])\r\n",
    "                    del hr_fake_images  ## clear memory used by hr_fake_images \r\n",
    "                    mismatched_logits = self.discriminator2([mismatched_images, embedding_batch])\r\n",
    "                    del mismatched_images  ## clear memory used by mismatched_images\r\n",
    "                    l_sup = tf.reduce_mean(tf.nn.sigmoid_cross_entropy_with_logits(real_labels,real_logits))\r\n",
    "                    l_klreg = KL_loss(tf.random.normal((phi.shape[0], phi.shape[1])), phi)\r\n",
    "                    generator_loss = l_sup + 2.0*l_klreg\r\n",
    "                    \r\n",
    "                    \r\n",
    "                    l_real = tf.reduce_mean(tf.nn.sigmoid_cross_entropy_with_logits(real_labels,real_logits))\r\n",
    "                    l_fake = tf.reduce_mean(tf.nn.sigmoid_cross_entropy_with_logits(fake_logits,fake_labels))\r\n",
    "                    l_mismatched = tf.reduce_mean(tf.nn.sigmoid_cross_entropy_with_logits(mismatched_logits,mismatched_labels))\r\n",
    "                    discriminator_loss = 0.5*tf.add(l_real,tf.add(l_fake, l_mismatched))\r\n",
    "\r\n",
    "                generator_gradients = generator_tape.gradient(generator_loss,self.generator2.trainable_variables)\r\n",
    "                self.generator2_optimizer.apply_gradients(zip(generator_gradients, self.generator2.trainable_variables))             \r\n",
    "                del generator_gradients\r\n",
    "                discriminator_gradients = discriminator_tape.gradient(discriminator_loss,self.discriminator2.trainable_variables)\r\n",
    "                self.discriminator2_optimizer.apply_gradients(zip(discriminator_gradients, self.discriminator2.trainable_variables))\r\n",
    "                del discriminator_gradients\r\n",
    "                generator_loss_log.append(generator_loss)\r\n",
    "                discriminator_loss_log.append(discriminator_loss)\r\n",
    "\r\n",
    "                end_time = time.time()\r\n",
    "\r\n",
    "            if epoch % 1 == 0:\r\n",
    "                epoch_time = end_time - start_time\r\n",
    "                template = \" - generator_loss: {:.4f} - discriminator_loss: {:.4f} - epoch_time: {:.2f} s\"\r\n",
    "                print(template.format(tf.reduce_mean(generator_loss_log), tf.reduce_mean(discriminator_loss_log), epoch_time))\r\n",
    "\r\n",
    "            if (epoch + 1) % 10 == 0 or epoch == num_epochs - 1:\r\n",
    "                save_path = \"./hr_results/epoch_\" + str(epoch + 1)\r\n",
    "                temp_embeddings = None\r\n",
    "                for _, embeddings in train_ds:\r\n",
    "                    temp_embeddings = embeddings.numpy()\r\n",
    "                    break\r\n",
    "                if os.path.exists(save_path) == False:\r\n",
    "                    os.makedirs(save_path)\r\n",
    "                temp_batch_size = temp_embeddings.shape[0]\r\n",
    "                temp_z_noise = tf.random.normal((temp_batch_size, self.noise_dim))\r\n",
    "                temp_embedding_batch = temp_embeddings[0:temp_batch_size]\r\n",
    "                lr_temp_images,_ = self.generator1([temp_embedding_batch, temp_z_noise])\r\n",
    "                fake_images,_= self.generator2([lr_temp_images,temp_embedding_batch])\r\n",
    "                for i, image in enumerate(fake_images):\r\n",
    "                        image = 127.5*image + 127.5\r\n",
    "                        image = image.numpy().astype('uint8')\r\n",
    "                        image  = keras.preprocessing.image.array_to_img(image)\r\n",
    "                        image.save(save_path + \"/gen_%d.png\"%(i))\r\n",
    "\r\n",
    "                weights_path = f\"./weights/hr_weights_{epoch+1}\"\r\n",
    "                if os.path.exists(weights_path)== False:\r\n",
    "                    os.makedirs(weights_path)\r\n",
    "                self.generator2.save_weights(weights_path+\"/stage2_generator.h5\")\r\n",
    "                self.discriminator2.save_weights(weights_path+\"/stage2_discriminator.h5\")\r\n",
    "\r\n",
    "\r\n",
    "    def load_weights(self,path_to_weights):\r\n",
    "        z_noise = tf.random.normal((1, self.noise_dim))\r\n",
    "    \r\n",
    "        embedding = tf.random.normal((1,1024))\r\n",
    "        image, phi = self.generator1([embedding, z_noise])\r\n",
    "        hr_image, _ = self.generator2([image,embedding])\r\n",
    "        logits    = self.discriminator2([hr_image,embedding])\r\n",
    "        self.generator2.load_weights(path_to_weights+\"/stage2_generator.h5\")\r\n",
    "        print(\"load_weights generator\")\r\n",
    "        self.discriminator2.load_weights(path_to_weights+\"/stage2_discriminator.h5\")\r\n",
    "        print(\"loaded discriminator2\")\r\n",
    "\r\n",
    "\r\n",
    "model2= Stage2Model(model)"
   ],
   "outputs": [],
   "metadata": {
    "id": "0I3i7kPFKM8I"
   }
  },
  {
   "cell_type": "code",
   "execution_count": 11,
   "source": [
    "model2.load_weights(\"./weights/hr_weights_1\")"
   ],
   "outputs": [],
   "metadata": {}
  },
  {
   "cell_type": "code",
   "execution_count": 15,
   "source": [
    "model2.train(train_ds,batch_size=4)"
   ],
   "outputs": [
    {
     "output_type": "stream",
     "name": "stdout",
     "text": [
      "Epoch 1/1:\n",
      "  ========================= - generator_loss: 1.6663 - discriminator_loss: 1.0424 - epoch_time: 181.36 s\n"
     ]
    }
   ],
   "metadata": {
    "colab": {
     "base_uri": "https://localhost:8080/",
     "height": 538
    },
    "id": "vMKBd1CxWsuc",
    "outputId": "2f2fdc56-c21c-44dd-9f77-e52be1e24943"
   }
  },
  {
   "cell_type": "code",
   "execution_count": null,
   "source": [
    "  "
   ],
   "outputs": [],
   "metadata": {
    "id": "8WEh-oXVOqiJ"
   }
  }
 ],
 "metadata": {
  "accelerator": "GPU",
  "colab": {
   "collapsed_sections": [],
   "name": "train.ipynb",
   "provenance": []
  },
  "interpreter": {
   "hash": "9f323a07508cb1307c6e6553fdda3bd6336c2794a5b8da8edb0e72318bc1a6d7"
  },
  "kernelspec": {
   "name": "python3",
   "display_name": "Python 3.7.9 64-bit ('tfgpu': conda)"
  },
  "language_info": {
   "codemirror_mode": {
    "name": "ipython",
    "version": 3
   },
   "file_extension": ".py",
   "mimetype": "text/x-python",
   "name": "python",
   "nbconvert_exporter": "python",
   "pygments_lexer": "ipython3",
   "version": "3.7.9"
  }
 },
 "nbformat": 4,
 "nbformat_minor": 2
}